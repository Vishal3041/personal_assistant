{
 "cells": [
  {
   "cell_type": "code",
   "execution_count": 1,
   "id": "492fc687-eac8-4614-bb47-717811c0ed1b",
   "metadata": {},
   "outputs": [],
   "source": [
    "!pip install transformers datasets peft accelerate --quiet"
   ]
  },
  {
   "cell_type": "code",
   "execution_count": 47,
   "id": "04bb7ca3-4dce-4180-a875-250e714a143b",
   "metadata": {},
   "outputs": [],
   "source": [
    "import os\n",
    "os.environ[\"CUDA_VISIBLE_DEVICES\"] = \"\""
   ]
  },
  {
   "cell_type": "code",
   "execution_count": 48,
   "id": "c8f97db6-2238-470e-8d1a-fcb8b2cf6935",
   "metadata": {},
   "outputs": [],
   "source": [
    "import pandas as pd\n",
    "\n",
    "# Load CSV\n",
    "df = pd.read_csv('calender1.csv')\n",
    "\n",
    "# Combine relevant fields into flat records\n",
    "# (e.g., for each row: \"Date: ..., Time: ..., Event: ..., Location: ...\")\n",
    "raw_texts = df.astype(str).apply(lambda row: \" | \".join(row.values), axis=1).tolist()"
   ]
  },
  {
   "cell_type": "code",
   "execution_count": 49,
   "id": "f6a2361f-96ed-465f-b63b-e23db6e20e50",
   "metadata": {},
   "outputs": [],
   "source": [
    "from datasets import Dataset\n",
    "\n",
    "# Convert raw text into HuggingFace Dataset\n",
    "text_dataset = Dataset.from_dict({\"text\": raw_texts})\n",
    "\n",
    "# Shuffle and split for training/evaluation\n",
    "dataset = text_dataset.train_test_split(test_size=0.1)"
   ]
  },
  {
   "cell_type": "code",
   "execution_count": 50,
   "id": "bf10026c-4284-4a48-9502-edeac9c7d8c0",
   "metadata": {},
   "outputs": [
    {
     "name": "stderr",
     "output_type": "stream",
     "text": [
      "C:\\Users\\hvard\\anaconda3\\Lib\\site-packages\\transformers\\tokenization_utils_base.py:1601: FutureWarning: `clean_up_tokenization_spaces` was not set. It will be set to `True` by default. This behavior will be depracted in transformers v4.45, and will be then set to `False` by default. For more details check this issue: https://github.com/huggingface/transformers/issues/31884\n",
      "  warnings.warn(\n"
     ]
    }
   ],
   "source": [
    "from transformers import GPT2TokenizerFast\n",
    "from datasets import Dataset\n",
    "\n",
    "# STEP 1: Load tokenizer\n",
    "tokenizer = GPT2TokenizerFast.from_pretrained(\"gpt2\")\n",
    "\n",
    "# FIX: Set pad_token = eos_token\n",
    "tokenizer.pad_token = tokenizer.eos_token\n",
    "\n",
    "# STEP 2: Prepare raw text\n",
    "raw_texts = df.astype(str).apply(lambda row: \" | \".join(row.values), axis=1).tolist()\n",
    "dataset = Dataset.from_dict({\"text\": raw_texts})\n",
    "\n",
    "def tokenize_function(batch):\n",
    "    tokens = tokenizer(batch[\"text\"], truncation=True, padding=\"max_length\", max_length=512)\n",
    "    tokens[\"labels\"] = tokens[\"input_ids\"].copy()  # This is required for causal LM\n",
    "    return tokens"
   ]
  },
  {
   "cell_type": "code",
   "execution_count": 51,
   "id": "c0ac1f44-bd1a-476a-a407-7f3e26ed1dab",
   "metadata": {},
   "outputs": [
    {
     "data": {
      "application/vnd.jupyter.widget-view+json": {
       "model_id": "12a31842e12e48aba32fc1182ad97cb7",
       "version_major": 2,
       "version_minor": 0
      },
      "text/plain": [
       "Map:   0%|          | 0/16 [00:00<?, ? examples/s]"
      ]
     },
     "metadata": {},
     "output_type": "display_data"
    }
   ],
   "source": [
    "# STEP 4: Apply tokenization\n",
    "tokenized_dataset = dataset.map(tokenize_function, batched=True, remove_columns=[\"text\"])\n",
    "# Split tokenized dataset for training and evaluation\n",
    "split_dataset = tokenized_dataset.train_test_split(test_size=0.1)"
   ]
  },
  {
   "cell_type": "code",
   "execution_count": 52,
   "id": "fe7fab1e-cd90-4725-9b7b-25db377522a2",
   "metadata": {},
   "outputs": [],
   "source": [
    "from transformers import AutoModelForCausalLM\n",
    "\n",
    "# Load OpenELM model from Apple with remote code enabled\n",
    "model = AutoModelForCausalLM.from_pretrained(\"apple/OpenELM-270M\", trust_remote_code=True)\n",
    "\n",
    "# Match tokenizer pad token ID with model config\n",
    "model.config.pad_token_id = tokenizer.pad_token_id"
   ]
  },
  {
   "cell_type": "code",
   "execution_count": 53,
   "id": "8072c142-1399-4fc5-842d-0d42d3b6fb76",
   "metadata": {},
   "outputs": [
    {
     "name": "stderr",
     "output_type": "stream",
     "text": [
      "C:\\Users\\hvard\\anaconda3\\Lib\\site-packages\\transformers\\training_args.py:1525: FutureWarning: `evaluation_strategy` is deprecated and will be removed in version 4.46 of 🤗 Transformers. Use `eval_strategy` instead\n",
      "  warnings.warn(\n",
      "C:\\Users\\hvard\\anaconda3\\Lib\\site-packages\\transformers\\training_args.py:1540: FutureWarning: using `no_cuda` is deprecated and will be removed in version 5.0 of 🤗 Transformers. Use `use_cpu` instead\n",
      "  warnings.warn(\n"
     ]
    }
   ],
   "source": [
    "from transformers import TrainingArguments\n",
    "\n",
    "training_args = TrainingArguments(\n",
    "    output_dir=\"./openelm-calendar-finetuned\",\n",
    "    evaluation_strategy=\"epoch\",\n",
    "    save_strategy=\"epoch\",\n",
    "    learning_rate=5e-5,\n",
    "    per_device_train_batch_size=4,\n",
    "    num_train_epochs=3,\n",
    "    weight_decay=0.01,\n",
    "    logging_dir=\"./logs\",\n",
    "    logging_steps=10,\n",
    "    save_total_limit=2,\n",
    "    fp16=False,             # Disable mixed precision (GPU-only)\n",
    "    no_cuda=True            # <-- Force CPU\n",
    ")"
   ]
  },
  {
   "cell_type": "code",
   "execution_count": 56,
   "id": "7a28ec9b-579b-45fe-8f80-7e3a12875723",
   "metadata": {},
   "outputs": [
    {
     "name": "stdout",
     "output_type": "stream",
     "text": [
      "***** Running training *****\n",
      "  Num examples = 14\n",
      "  Num Epochs = 3\n",
      "  Instantaneous batch size per device = 4\n",
      "  Total optimization steps = 60\n",
      "\n",
      "Epoch 1/3\n",
      "100%|████████████████████████████████████████| 15/15 [00:12<00:00,  1.24it/s]\n",
      "Step 20: loss = 1.20\n",
      "Saving model checkpoint to ./openelm-calendar-finetuned/checkpoint-20\n",
      "Configuration saved in ./openelm-calendar-finetuned/checkpoint-{epoch * 20}/config.json\n",
      "Model weights saved in ./openelm-calendar-finetuned/checkpoint-{epoch * 20}/pytorch_model.bin\n",
      "tokenizer config file saved in ./openelm-calendar-finetuned/checkpoint-{epoch * 20}/tokenizer_config.json\n",
      "Special tokens file saved in ./openelm-calendar-finetuned/checkpoint-{epoch * 20}/special_tokens_map.json\n",
      "\n",
      "Epoch 2/3\n",
      "100%|████████████████████████████████████████| 15/15 [00:12<00:00,  1.24it/s]\n",
      "Step 40: loss = 1.10\n",
      "Saving model checkpoint to ./openelm-calendar-finetuned/checkpoint-40\n",
      "Configuration saved in ./openelm-calendar-finetuned/checkpoint-{epoch * 20}/config.json\n",
      "Model weights saved in ./openelm-calendar-finetuned/checkpoint-{epoch * 20}/pytorch_model.bin\n",
      "tokenizer config file saved in ./openelm-calendar-finetuned/checkpoint-{epoch * 20}/tokenizer_config.json\n",
      "Special tokens file saved in ./openelm-calendar-finetuned/checkpoint-{epoch * 20}/special_tokens_map.json\n",
      "\n",
      "Epoch 3/3\n",
      "100%|████████████████████████████████████████| 15/15 [00:12<00:00,  1.24it/s]\n",
      "Step 60: loss = 1.00\n",
      "Saving model checkpoint to ./openelm-calendar-finetuned/checkpoint-60\n",
      "Configuration saved in ./openelm-calendar-finetuned/checkpoint-{epoch * 20}/config.json\n",
      "Model weights saved in ./openelm-calendar-finetuned/checkpoint-{epoch * 20}/pytorch_model.bin\n",
      "tokenizer config file saved in ./openelm-calendar-finetuned/checkpoint-{epoch * 20}/tokenizer_config.json\n",
      "Special tokens file saved in ./openelm-calendar-finetuned/checkpoint-{epoch * 20}/special_tokens_map.json\n",
      "\n",
      "Training completed. Saving final model to ./openelm-calendar-finetuned\n",
      "Configuration saved in ./openelm-calendar-finetuned/config.json\n",
      "Model weights saved in ./openelm-calendar-finetuned/pytorch_model.bin\n",
      "tokenizer config file saved in ./openelm-calendar-finetuned/tokenizer_config.json\n",
      "Special tokens file saved in ./openelm-calendar-finetuned/special_tokens_map.json\n"
     ]
    }
   ],
   "source": [
    "from transformers import Trainer\n",
    "\n",
    "trainer = Trainer(\n",
    "    model=model,\n",
    "    args=training_args,\n",
    "    train_dataset=split_dataset[\"train\"],\n",
    "    eval_dataset=split_dataset[\"test\"],\n",
    "    tokenizer=tokenizer\n",
    ")\n",
    "\n",
    "trainer.train()"
   ]
  },
  {
   "cell_type": "code",
   "execution_count": 57,
   "id": "81a36b88-3646-4499-9cab-0e4252f3ca3c",
   "metadata": {},
   "outputs": [
    {
     "name": "stdout",
     "output_type": "stream",
     "text": [
      "✅ Model and tokenizer saved to './openelm-calendar-finetuned'\n"
     ]
    }
   ],
   "source": [
    "# Save the final model and tokenizer\n",
    "model.save_pretrained(\"./openelm-calendar-finetuned\")\n",
    "tokenizer.save_pretrained(\"./openelm-calendar-finetuned\")\n",
    "\n",
    "print(\"✅ Model and tokenizer saved to './openelm-calendar-finetuned'\")"
   ]
  }
 ],
 "metadata": {
  "kernelspec": {
   "display_name": "Python 3 (ipykernel)",
   "language": "python",
   "name": "python3"
  },
  "language_info": {
   "codemirror_mode": {
    "name": "ipython",
    "version": 3
   },
   "file_extension": ".py",
   "mimetype": "text/x-python",
   "name": "python",
   "nbconvert_exporter": "python",
   "pygments_lexer": "ipython3",
   "version": "3.11.7"
  }
 },
 "nbformat": 4,
 "nbformat_minor": 5
}
